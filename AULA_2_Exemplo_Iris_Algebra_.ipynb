{
  "nbformat": 4,
  "nbformat_minor": 0,
  "metadata": {
    "colab": {
      "provenance": [],
      "collapsed_sections": [],
      "include_colab_link": true
    },
    "kernelspec": {
      "name": "python3",
      "display_name": "Python 3"
    },
    "language_info": {
      "name": "python"
    }
  },
  "cells": [
    {
      "cell_type": "markdown",
      "metadata": {
        "id": "view-in-github",
        "colab_type": "text"
      },
      "source": [
        "<a href=\"https://colab.research.google.com/github/ramonfv/Deep-Learning-e-RNA/blob/main/AULA_2_Exemplo_Iris_Algebra_.ipynb\" target=\"_parent\"><img src=\"https://colab.research.google.com/assets/colab-badge.svg\" alt=\"Open In Colab\"/></a>"
      ]
    },
    {
      "cell_type": "code",
      "metadata": {
        "id": "zfRObctcVlV2",
        "outputId": "33f482ec-affc-4354-be22-0ff5c06c7188",
        "colab": {
          "base_uri": "https://localhost:8080/"
        }
      },
      "source": [
        "import numpy as np\n",
        "from sklearn import datasets\n",
        "import matplotlib.pyplot as plt\n",
        "\n",
        "iris_dataset = datasets.load_iris()\n",
        "print(\"Descrição da base de dados :: \", iris_dataset['DESCR'])"
      ],
      "execution_count": 1,
      "outputs": [
        {
          "output_type": "stream",
          "name": "stdout",
          "text": [
            "Descrição da base de dados ::  .. _iris_dataset:\n",
            "\n",
            "Iris plants dataset\n",
            "--------------------\n",
            "\n",
            "**Data Set Characteristics:**\n",
            "\n",
            "    :Number of Instances: 150 (50 in each of three classes)\n",
            "    :Number of Attributes: 4 numeric, predictive attributes and the class\n",
            "    :Attribute Information:\n",
            "        - sepal length in cm\n",
            "        - sepal width in cm\n",
            "        - petal length in cm\n",
            "        - petal width in cm\n",
            "        - class:\n",
            "                - Iris-Setosa\n",
            "                - Iris-Versicolour\n",
            "                - Iris-Virginica\n",
            "                \n",
            "    :Summary Statistics:\n",
            "\n",
            "    ============== ==== ==== ======= ===== ====================\n",
            "                    Min  Max   Mean    SD   Class Correlation\n",
            "    ============== ==== ==== ======= ===== ====================\n",
            "    sepal length:   4.3  7.9   5.84   0.83    0.7826\n",
            "    sepal width:    2.0  4.4   3.05   0.43   -0.4194\n",
            "    petal length:   1.0  6.9   3.76   1.76    0.9490  (high!)\n",
            "    petal width:    0.1  2.5   1.20   0.76    0.9565  (high!)\n",
            "    ============== ==== ==== ======= ===== ====================\n",
            "\n",
            "    :Missing Attribute Values: None\n",
            "    :Class Distribution: 33.3% for each of 3 classes.\n",
            "    :Creator: R.A. Fisher\n",
            "    :Donor: Michael Marshall (MARSHALL%PLU@io.arc.nasa.gov)\n",
            "    :Date: July, 1988\n",
            "\n",
            "The famous Iris database, first used by Sir R.A. Fisher. The dataset is taken\n",
            "from Fisher's paper. Note that it's the same as in R, but not as in the UCI\n",
            "Machine Learning Repository, which has two wrong data points.\n",
            "\n",
            "This is perhaps the best known database to be found in the\n",
            "pattern recognition literature.  Fisher's paper is a classic in the field and\n",
            "is referenced frequently to this day.  (See Duda & Hart, for example.)  The\n",
            "data set contains 3 classes of 50 instances each, where each class refers to a\n",
            "type of iris plant.  One class is linearly separable from the other 2; the\n",
            "latter are NOT linearly separable from each other.\n",
            "\n",
            ".. topic:: References\n",
            "\n",
            "   - Fisher, R.A. \"The use of multiple measurements in taxonomic problems\"\n",
            "     Annual Eugenics, 7, Part II, 179-188 (1936); also in \"Contributions to\n",
            "     Mathematical Statistics\" (John Wiley, NY, 1950).\n",
            "   - Duda, R.O., & Hart, P.E. (1973) Pattern Classification and Scene Analysis.\n",
            "     (Q327.D83) John Wiley & Sons.  ISBN 0-471-22361-1.  See page 218.\n",
            "   - Dasarathy, B.V. (1980) \"Nosing Around the Neighborhood: A New System\n",
            "     Structure and Classification Rule for Recognition in Partially Exposed\n",
            "     Environments\".  IEEE Transactions on Pattern Analysis and Machine\n",
            "     Intelligence, Vol. PAMI-2, No. 1, 67-71.\n",
            "   - Gates, G.W. (1972) \"The Reduced Nearest Neighbor Rule\".  IEEE Transactions\n",
            "     on Information Theory, May 1972, 431-433.\n",
            "   - See also: 1988 MLC Proceedings, 54-64.  Cheeseman et al\"s AUTOCLASS II\n",
            "     conceptual clustering system finds 3 classes in the data.\n",
            "   - Many, many more ...\n"
          ]
        }
      ]
    },
    {
      "cell_type": "code",
      "metadata": {
        "id": "Sk4X6hFmVptS",
        "outputId": "2efec934-4f2b-478e-ae6e-a7c858373017",
        "colab": {
          "base_uri": "https://localhost:8080/"
        }
      },
      "source": [
        "#Obter os dados\n",
        "X = iris_dataset.data\n",
        "Y = iris_dataset.target\n",
        "\n",
        "print('Dimensão de  X =',X.shape)\n",
        "#print(X)\n",
        "print(Y)"
      ],
      "execution_count": 2,
      "outputs": [
        {
          "output_type": "stream",
          "name": "stdout",
          "text": [
            "Dimensão de  X = (150, 4)\n",
            "[0 0 0 0 0 0 0 0 0 0 0 0 0 0 0 0 0 0 0 0 0 0 0 0 0 0 0 0 0 0 0 0 0 0 0 0 0\n",
            " 0 0 0 0 0 0 0 0 0 0 0 0 0 1 1 1 1 1 1 1 1 1 1 1 1 1 1 1 1 1 1 1 1 1 1 1 1\n",
            " 1 1 1 1 1 1 1 1 1 1 1 1 1 1 1 1 1 1 1 1 1 1 1 1 1 1 2 2 2 2 2 2 2 2 2 2 2\n",
            " 2 2 2 2 2 2 2 2 2 2 2 2 2 2 2 2 2 2 2 2 2 2 2 2 2 2 2 2 2 2 2 2 2 2 2 2 2\n",
            " 2 2]\n"
          ]
        }
      ]
    },
    {
      "cell_type": "code",
      "source": [
        "print(X[0:5,:])"
      ],
      "metadata": {
        "id": "0NcVqxCgaIlu",
        "outputId": "25872f04-b262-4fca-87be-0f53e573d807",
        "colab": {
          "base_uri": "https://localhost:8080/"
        }
      },
      "execution_count": 3,
      "outputs": [
        {
          "output_type": "stream",
          "name": "stdout",
          "text": [
            "[[5.1 3.5 1.4 0.2]\n",
            " [4.9 3.  1.4 0.2]\n",
            " [4.7 3.2 1.3 0.2]\n",
            " [4.6 3.1 1.5 0.2]\n",
            " [5.  3.6 1.4 0.2]]\n"
          ]
        }
      ]
    },
    {
      "cell_type": "code",
      "metadata": {
        "id": "yy-09VDcVr5p",
        "outputId": "e35eead3-aba7-4b48-a4a1-0efd093bd523",
        "colab": {
          "base_uri": "https://localhost:8080/"
        }
      },
      "source": [
        "max = np.max(X,axis=0)\n",
        "print('Máximo =', max)\n",
        "min = np.min(X,axis=0)\n",
        "print('Mínimo =', min)"
      ],
      "execution_count": 4,
      "outputs": [
        {
          "output_type": "stream",
          "name": "stdout",
          "text": [
            "Máximo = [7.9 4.4 6.9 2.5]\n",
            "Mínimo = [4.3 2.  1.  0.1]\n"
          ]
        }
      ]
    },
    {
      "cell_type": "code",
      "metadata": {
        "id": "_akx_VZ-VtlO",
        "outputId": "f676ecaf-850d-49ee-cbce-a64218dcd05f",
        "colab": {
          "base_uri": "https://localhost:8080/"
        }
      },
      "source": [
        "media = np.mean(X, axis=0)\n",
        "print('média:', media)\n",
        "\n",
        "desvio = np.std(X, axis=0)\n",
        "print('desvio_padrão', desvio)"
      ],
      "execution_count": 5,
      "outputs": [
        {
          "output_type": "stream",
          "name": "stdout",
          "text": [
            "média: [5.84333333 3.05733333 3.758      1.19933333]\n",
            "desvio_padrão [0.82530129 0.43441097 1.75940407 0.75969263]\n"
          ]
        }
      ]
    },
    {
      "cell_type": "markdown",
      "metadata": {
        "id": "rX2m6Z3_g9im"
      },
      "source": [
        "Valores dentro de cada espécie"
      ]
    },
    {
      "cell_type": "code",
      "metadata": {
        "id": "-YjZcjSThCvK",
        "outputId": "6caa17d4-040a-45da-f9eb-b1c71e60fc68",
        "colab": {
          "base_uri": "https://localhost:8080/"
        }
      },
      "source": [
        "x_setosa = X[0:50,:]\n",
        "x_versicolor = X[50:100,:]\n",
        "x_virginica = X[100:150,:]\n",
        "print(x_setosa.shape)\n",
        "print(x_versicolor.shape)\n",
        "print(x_virginica.shape)"
      ],
      "execution_count": 6,
      "outputs": [
        {
          "output_type": "stream",
          "name": "stdout",
          "text": [
            "(50, 4)\n",
            "(50, 4)\n",
            "(50, 4)\n"
          ]
        }
      ]
    },
    {
      "cell_type": "code",
      "metadata": {
        "id": "d9TGQKdzhWpR",
        "outputId": "f527fb46-2ee1-4809-94c8-a364ce7926a1",
        "colab": {
          "base_uri": "https://localhost:8080/"
        }
      },
      "source": [
        "print(\"Setosa\")\n",
        "max_s = np.max(x_setosa,axis=0)\n",
        "print('Máximo =', max_s)\n",
        "min_s = np.min(x_setosa,axis=0)\n",
        "print('Mínimo =', min_s)\n",
        "media_s = np.mean(x_setosa, axis=0)\n",
        "print('média:', media_s)\n",
        "desvio_s = np.std(x_setosa, axis=0)\n",
        "print('desvio_padrão', desvio_s)\n",
        "\n",
        "print(\"\\nVersicolor\")\n",
        "max_ve = np.max(x_versicolor,axis=0)\n",
        "print('Máximo =', max_ve)\n",
        "min_ve = np.min(x_versicolor,axis=0)\n",
        "print('Mínimo =', min_ve)\n",
        "media_ve = np.mean(x_versicolor, axis=0)\n",
        "print('média:', media_ve)\n",
        "desvio_ve = np.std(x_versicolor, axis=0)\n",
        "print('desvio_padrão', desvio_ve)\n",
        "\n",
        "print(\"\\nVirgínica\")\n",
        "max_vi = np.max(x_virginica,axis=0)\n",
        "print('Máximo =', max_vi)\n",
        "min_vi = np.min(x_virginica,axis=0)\n",
        "print('Mínimo =', min_vi)\n",
        "media_vi = np.mean(x_virginica, axis=0)\n",
        "print('média:', media_vi)\n",
        "desvio_vi = np.std(x_virginica, axis=0)\n",
        "print('desvio_padrão', desvio_vi)"
      ],
      "execution_count": 7,
      "outputs": [
        {
          "output_type": "stream",
          "name": "stdout",
          "text": [
            "Setosa\n",
            "Máximo = [5.8 4.4 1.9 0.6]\n",
            "Mínimo = [4.3 2.3 1.  0.1]\n",
            "média: [5.006 3.428 1.462 0.246]\n",
            "desvio_padrão [0.34894699 0.37525458 0.17191859 0.10432641]\n",
            "\n",
            "Versicolor\n",
            "Máximo = [7.  3.4 5.1 1.8]\n",
            "Mínimo = [4.9 2.  3.  1. ]\n",
            "média: [5.936 2.77  4.26  1.326]\n",
            "desvio_padrão [0.51098337 0.31064449 0.46518813 0.19576517]\n",
            "\n",
            "Virgínica\n",
            "Máximo = [7.9 3.8 6.9 2.5]\n",
            "Mínimo = [4.9 2.2 4.5 1.4]\n",
            "média: [6.588 2.974 5.552 2.026]\n",
            "desvio_padrão [0.62948868 0.31925538 0.54634787 0.27188968]\n"
          ]
        }
      ]
    },
    {
      "cell_type": "code",
      "metadata": {
        "id": "1yCOjLh5l3uD",
        "outputId": "f9e686f3-c82e-4680-c4e1-295c0557f298",
        "colab": {
          "base_uri": "https://localhost:8080/",
          "height": 296
        }
      },
      "source": [
        "#Plotar os dados\n",
        "plt.scatter(media[0],media[2],\n",
        "            color='black', marker='o', label='geral')\n",
        "plt.scatter(media_s[0],media_s[2],\n",
        "            color='green', marker='o', label='setosa')\n",
        "plt.scatter(media_ve[0],media_ve[2],\n",
        "            color='red', marker='o', label='versicolor')\n",
        "plt.scatter(media_vi[0],media_vi[2],\n",
        "            color='blue', marker='o', label='virginica')\n",
        "plt.title('Valores médio de comprimento de pétalas e sépalas')\n",
        "plt.xlabel('comprimento da sépala [cm]')\n",
        "plt.ylabel('comprimento da pétala [cm]')\n",
        "plt.legend(loc='upper left')\n",
        "\n",
        "plt.show()"
      ],
      "execution_count": 8,
      "outputs": [
        {
          "output_type": "display_data",
          "data": {
            "text/plain": [
              "<Figure size 432x288 with 1 Axes>"
            ],
            "image/png": "[encoded data removed]"
          },
          "metadata": {
            "needs_background": "light"
          }
        }
      ]
    },
    {
      "cell_type": "code",
      "metadata": {
        "id": "Z1FmMY7hnxof",
        "outputId": "0aa38557-2fd6-43a5-a02f-c97d937a40f5",
        "colab": {
          "base_uri": "https://localhost:8080/",
          "height": 296
        }
      },
      "source": [
        "x_setosa = X[0:50,:]\n",
        "x_versicolor = X[50:100,:]\n",
        "x_virginica = X[100:150,:]\n",
        "\n",
        "#Plotar os dados\n",
        "plt.scatter(x_setosa[:, 0], x_setosa[:, 2],\n",
        "            color='green', marker='o', label='setosa')\n",
        "plt.scatter(x_versicolor[:, 0], x_versicolor[:, 2],\n",
        "            color='red', marker='o', label='versicolor')\n",
        "plt.scatter(x_virginica[:, 0], x_virginica[:, 2],\n",
        "            color='blue', marker='o', label='virginica')\n",
        "\n",
        "\n",
        "plt.title('Valores de comprimento de pétalas e sépalas')\n",
        "plt.xlabel('comprimento da sépala [cm]')\n",
        "plt.ylabel('comprimento da pétala [cm]')\n",
        "plt.legend(loc='upper left')\n",
        "\n",
        "plt.show()"
      ],
      "execution_count": 9,
      "outputs": [
        {
          "output_type": "display_data",
          "data": {
            "text/plain": [
              "<Figure size 432x288 with 1 Axes>"
            ],
            "image/png": "[encoded data removed]"
          },
          "metadata": {
            "needs_background": "light"
          }
        }
      ]
    }
  ]
}