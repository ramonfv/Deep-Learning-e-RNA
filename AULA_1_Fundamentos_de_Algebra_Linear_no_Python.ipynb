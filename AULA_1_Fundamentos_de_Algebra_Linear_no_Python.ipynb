{
  "nbformat": 4,
  "nbformat_minor": 0,
  "metadata": {
    "colab": {
      "provenance": [],
      "collapsed_sections": [],
      "include_colab_link": true
    },
    "kernelspec": {
      "name": "python3",
      "display_name": "Python 3"
    },
    "language_info": {
      "name": "python"
    }
  },
  "cells": [
    {
      "cell_type": "markdown",
      "metadata": {
        "id": "view-in-github",
        "colab_type": "text"
      },
      "source": [
        "<a href=\"https://colab.research.google.com/github/ramonfv/Deep-Learning-e-RNA/blob/main/AULA_1_Fundamentos_de_Algebra_Linear_no_Python.ipynb\" target=\"_parent\"><img src=\"https://colab.research.google.com/assets/colab-badge.svg\" alt=\"Open In Colab\"/></a>"
      ]
    },
    {
      "cell_type": "markdown",
      "metadata": {
        "id": "-Uf48_np8oMb"
      },
      "source": [
        "#Fundamentos de Álgebra Linear no Python - NumPy"
      ]
    },
    {
      "cell_type": "markdown",
      "metadata": {
        "id": "o7_3bx_rxYSq"
      },
      "source": [
        "O Python disponibiliza uma variedade interessante de ferramentas para tratar com matrizes e vetores. Em particular, vamos empregar a biblioteca de computação científica NumPy, que facilita muito a manipulação algébrica de matrizes.\n",
        "\n",
        "Este roteiro foi baseado no material disponível em:\n",
        "\n",
        "(1)http://www.sakurai.dev.br/revisao-algebra-linear-python/\n",
        "\n",
        "(2)https://www.dca.fee.unicamp.br/~vonzuben/courses/ia353_1s20/topico3_IA353_1s2020.pdf\n",
        "\n",
        "(3) Tutorial disponível no site do NumPy: https://numpy.org/.\n",
        "\n",
        "\n",
        "Para importar a biblioteca NumPy: "
      ]
    },
    {
      "cell_type": "code",
      "metadata": {
        "id": "rBXt6394mDvm"
      },
      "source": [
        "import numpy as np"
      ],
      "execution_count": 1,
      "outputs": []
    },
    {
      "cell_type": "markdown",
      "metadata": {
        "id": "9Eifi8jAmoq8"
      },
      "source": [
        "No Python, vetores e matrizes são representados por um ***array*** do NumPy. \n",
        "\n",
        "Um *array* é uma grade de valores que contém informações do mesmo tipo. \n",
        "\n",
        "\n",
        "Para criar um *array* fazemos:"
      ]
    },
    {
      "cell_type": "code",
      "source": [
        "#criando um vetor com 3 elementos\n",
        "vetor1d = np.array([1,2,7])\n",
        "print('vetor = ', vetor1d)"
      ],
      "metadata": {
        "colab": {
          "base_uri": "https://localhost:8080/"
        },
        "id": "40lMuTqu3jLL",
        "outputId": "9200ed59-1513-4b86-8a14-b43c28eecf5f"
      },
      "execution_count": 2,
      "outputs": [
        {
          "output_type": "stream",
          "name": "stdout",
          "text": [
            "vetor =  [1 2 7]\n"
          ]
        }
      ]
    },
    {
      "cell_type": "code",
      "metadata": {
        "id": "wjumQpNqmmT6",
        "colab": {
          "base_uri": "https://localhost:8080/"
        },
        "outputId": "bae9b86d-deb6-4a85-a0f7-ee7dcfd85e46"
      },
      "source": [
        "#criando uma matriz 3x3\n",
        "matriz = np.array([[1,2,3,0],[4,5,6,9],[7,8,9,10]])  \n",
        "print('matriz =\\n',matriz)"
      ],
      "execution_count": 3,
      "outputs": [
        {
          "output_type": "stream",
          "name": "stdout",
          "text": [
            "matriz =\n",
            " [[ 1  2  3  0]\n",
            " [ 4  5  6  9]\n",
            " [ 7  8  9 10]]\n"
          ]
        }
      ]
    },
    {
      "cell_type": "markdown",
      "metadata": {
        "id": "gQWIPD3znJST"
      },
      "source": [
        "O NumPy tem muitas ferramentas que auxiliam a manipular os arrays, como:"
      ]
    },
    {
      "cell_type": "code",
      "metadata": {
        "id": "BcPEE_y6nGqy",
        "colab": {
          "base_uri": "https://localhost:8080/"
        },
        "outputId": "d1fea4a2-e709-4b97-e3ab-abc7747ccc46"
      },
      "source": [
        "#criando um vetor com 3 elementos\n",
        "x = np.array([5,2,8]) \n",
        "print('vetor = ', x)\n",
        "\n",
        "soma = x.sum() #soma os valores do vetor\n",
        "min = x.min() #determina o menor valor do vetor\n",
        "max = x.max() #determina o maior valor do vetor\n",
        "\n",
        "print('soma = ', soma)\n",
        "print('menor valor = ', min)\n",
        "print('maior valor = ', max)"
      ],
      "execution_count": 4,
      "outputs": [
        {
          "output_type": "stream",
          "name": "stdout",
          "text": [
            "vetor =  [5 2 8]\n",
            "soma =  15\n",
            "menor valor =  2\n",
            "maior valor =  8\n"
          ]
        }
      ]
    },
    {
      "cell_type": "markdown",
      "metadata": {
        "id": "1e2-LBFSxcr6"
      },
      "source": [
        "##Soma de Vetores\n",
        "\n",
        "A soma de dois ou mais vetores (de tamanho igual) é realizada com a operação +, que calcula a soma de cada elemento nas mesmas posições do vetor."
      ]
    },
    {
      "cell_type": "code",
      "metadata": {
        "id": "Msac97PkqMAq",
        "colab": {
          "base_uri": "https://localhost:8080/"
        },
        "outputId": "062a011c-71f3-4511-89a6-1fb1ac5bf487"
      },
      "source": [
        "nota1 = np.array([9.1, 9.0, 8.5, 6.5, 4.4])\n",
        "nota2 = np.array([9.5, 8.6, 8.7, 7.8, 3.5])\n",
        "soma = nota1 + nota2\n",
        "\n",
        "print('soma = ', soma)"
      ],
      "execution_count": 5,
      "outputs": [
        {
          "output_type": "stream",
          "name": "stdout",
          "text": [
            "soma =  [18.6 17.6 17.2 14.3  7.9]\n"
          ]
        }
      ]
    },
    {
      "cell_type": "markdown",
      "metadata": {
        "id": "vt9-8Nj19CBd"
      },
      "source": [
        "##Soma de Escalar\n",
        "Também é possível fazer a soma de um número escalar ao vetor. Neste caso, um valor é somado a cada elemento do vetor.  \n",
        "\n",
        "Exemplo, suponha um conjunto com a média de notas dos alunos e o professor resolve dar 0.5 pontos para cada aluno:"
      ]
    },
    {
      "cell_type": "code",
      "metadata": {
        "id": "M49ExdQ787Ml",
        "colab": {
          "base_uri": "https://localhost:8080/"
        },
        "outputId": "7be0bb43-9ae4-419d-9052-de7a836e2e41"
      },
      "source": [
        "media = np.array([9.5, 7.2, 8.3, 9.4, 5.5, 4.2])\n",
        "media_final= media + 0.5\n",
        "\n",
        "print('média final =', media_final)"
      ],
      "execution_count": 6,
      "outputs": [
        {
          "output_type": "stream",
          "name": "stdout",
          "text": [
            "média final = [10.   7.7  8.8  9.9  6.   4.7]\n"
          ]
        }
      ]
    },
    {
      "cell_type": "markdown",
      "metadata": {
        "id": "DX_Yj2TO-Ciy"
      },
      "source": [
        "##Operações com *array*\n",
        "Com o novo vetor de notas, queremos saber quais os alunos obtiveram nota maior ou igual a 6.0 e foram aprovados. Para isso, podemos aplicar uma comparação a cada elemento do vetor, exemplo:\n"
      ]
    },
    {
      "cell_type": "code",
      "metadata": {
        "id": "jvebeeIW9nP-",
        "colab": {
          "base_uri": "https://localhost:8080/"
        },
        "outputId": "3e0d0345-5962-4899-c4af-0c5d621f0c91"
      },
      "source": [
        "aprovados = media_final >= 6.0 \n",
        "\n",
        "print(aprovados)"
      ],
      "execution_count": 7,
      "outputs": [
        {
          "output_type": "stream",
          "name": "stdout",
          "text": [
            "[ True  True  True  True  True False]\n"
          ]
        }
      ]
    },
    {
      "cell_type": "markdown",
      "metadata": {
        "id": "SBdQZEfGr4vS"
      },
      "source": [
        "E contar quantos alunos foram aprovados, ou seja, quantos valores são True."
      ]
    },
    {
      "cell_type": "code",
      "metadata": {
        "id": "klImey7BrvoI",
        "colab": {
          "base_uri": "https://localhost:8080/"
        },
        "outputId": "da31562c-7bda-422e-d493-ca34b22fd111"
      },
      "source": [
        "num_aprovados = sum(media_final >= 6.0)\n",
        "\n",
        "print('Número de aprovados =', num_aprovados)"
      ],
      "execution_count": 8,
      "outputs": [
        {
          "output_type": "stream",
          "name": "stdout",
          "text": [
            "Número de aprovados = 5\n"
          ]
        }
      ]
    },
    {
      "cell_type": "markdown",
      "metadata": {
        "id": "OUAErERLsOR-"
      },
      "source": [
        "O mesmo pode ser feito para saber quantos alunos foram reprovados. Podemos aplicar uma comparação a cada elemento do vetor, exemplo:"
      ]
    },
    {
      "cell_type": "code",
      "metadata": {
        "id": "IzXPhJ7hsSEu",
        "colab": {
          "base_uri": "https://localhost:8080/"
        },
        "outputId": "9c1acf11-b55c-4f95-de2a-975e8d728eae"
      },
      "source": [
        "reprovados = media_final < 6.0\n",
        "\n",
        "num_reprovados = sum(media_final < 6.0)\n",
        "\n",
        "print('reprovados =', reprovados)\n",
        "print('Número de reprovados =', num_reprovados)"
      ],
      "execution_count": 9,
      "outputs": [
        {
          "output_type": "stream",
          "name": "stdout",
          "text": [
            "reprovados = [False False False False False  True]\n",
            "Número de reprovados = 1\n"
          ]
        }
      ]
    },
    {
      "cell_type": "markdown",
      "metadata": {
        "id": "LtEVLe3QBT7j"
      },
      "source": [
        "Gerando *arrays* de dimensão *n* com valores aleatórios"
      ]
    },
    {
      "cell_type": "code",
      "metadata": {
        "id": "uZGatQEyBQYP",
        "colab": {
          "base_uri": "https://localhost:8080/"
        },
        "outputId": "d1bc774d-3384-41ec-ebed-09601bae2be4"
      },
      "source": [
        "x_1D = np.random.rand(3)\n",
        "x_2D = np.random.rand(2,3)\n",
        "x_3D = np.random.rand(2,3,4)\n",
        "x_4D = np.random.rand(2,3,2,2)\n",
        "\n",
        "print('X_1D = \\n',x_1D)\n",
        "print('X_2D = \\n',x_2D)\n",
        "print('X_3D = \\n',x_3D)\n",
        "print('X_4D = \\n',x_4D)"
      ],
      "execution_count": 10,
      "outputs": [
        {
          "output_type": "stream",
          "name": "stdout",
          "text": [
            "X_1D = \n",
            " [0.71720531 0.52460042 0.8424755 ]\n",
            "X_2D = \n",
            " [[0.09401359 0.57045849 0.72629321]\n",
            " [0.67248452 0.77475249 0.73751617]]\n",
            "X_3D = \n",
            " [[[0.91437192 0.60973925 0.17433463 0.24513883]\n",
            "  [0.32918327 0.80823797 0.64092738 0.64118557]\n",
            "  [0.5178266  0.8399589  0.66856358 0.48970789]]\n",
            "\n",
            " [[0.83496855 0.55887592 0.8371708  0.67342805]\n",
            "  [0.33956994 0.57355171 0.29488398 0.16867671]\n",
            "  [0.38393032 0.59937273 0.46883047 0.29438919]]]\n",
            "X_4D = \n",
            " [[[[0.95615382 0.66892256]\n",
            "   [0.08230728 0.82775649]]\n",
            "\n",
            "  [[0.09000291 0.42707483]\n",
            "   [0.30818127 0.01323027]]\n",
            "\n",
            "  [[0.56721917 0.36745166]\n",
            "   [0.27565997 0.88918142]]]\n",
            "\n",
            "\n",
            " [[[0.51883048 0.14040181]\n",
            "   [0.95257523 0.76904407]]\n",
            "\n",
            "  [[0.79717182 0.4604299 ]\n",
            "   [0.16409766 0.31988552]]\n",
            "\n",
            "  [[0.11340029 0.56716335]\n",
            "   [0.63079154 0.08105984]]]]\n"
          ]
        }
      ]
    },
    {
      "cell_type": "code",
      "source": [
        "x_4D[0,0,1,1]"
      ],
      "metadata": {
        "colab": {
          "base_uri": "https://localhost:8080/"
        },
        "id": "u8f9YPOpeB5x",
        "outputId": "69c1afef-0ebf-4f58-e79d-eb4f077ba114"
      },
      "execution_count": 11,
      "outputs": [
        {
          "output_type": "execute_result",
          "data": {
            "text/plain": [
              "0.82775649225947"
            ]
          },
          "metadata": {},
          "execution_count": 11
        }
      ]
    },
    {
      "cell_type": "markdown",
      "metadata": {
        "id": "MK3H96Resx2f"
      },
      "source": [
        "Como determinar o formato e o tamanho de um *array*?"
      ]
    },
    {
      "cell_type": "code",
      "metadata": {
        "id": "WLF949f9s-a8",
        "colab": {
          "base_uri": "https://localhost:8080/"
        },
        "outputId": "99b8c0c6-329b-400e-dc55-9ab4a756f0bf"
      },
      "source": [
        "num_dimensoes = x_3D.ndim\n",
        "num_elementos = x_3D.size\n",
        "formato = x_3D.shape\n",
        "\n",
        "print('X = \\n',x_3D,'\\n')\n",
        "print('Número de dimensões do array:', num_dimensoes)\n",
        "print('Número de elementos do array:', num_elementos)\n",
        "print('Format do array', formato)\n"
      ],
      "execution_count": 12,
      "outputs": [
        {
          "output_type": "stream",
          "name": "stdout",
          "text": [
            "X = \n",
            " [[[0.91437192 0.60973925 0.17433463 0.24513883]\n",
            "  [0.32918327 0.80823797 0.64092738 0.64118557]\n",
            "  [0.5178266  0.8399589  0.66856358 0.48970789]]\n",
            "\n",
            " [[0.83496855 0.55887592 0.8371708  0.67342805]\n",
            "  [0.33956994 0.57355171 0.29488398 0.16867671]\n",
            "  [0.38393032 0.59937273 0.46883047 0.29438919]]] \n",
            "\n",
            "Número de dimensões do array: 3\n",
            "Número de elementos do array: 24\n",
            "Format do array (2, 3, 4)\n"
          ]
        }
      ]
    },
    {
      "cell_type": "markdown",
      "metadata": {
        "id": "-EDsmvddCVQ_"
      },
      "source": [
        "Calculando média e desvio padrão."
      ]
    },
    {
      "cell_type": "code",
      "metadata": {
        "id": "_dtifTEPCU4X",
        "colab": {
          "base_uri": "https://localhost:8080/"
        },
        "outputId": "bc8be345-1bb9-403f-c7f9-d97b63e7dffc"
      },
      "source": [
        "x = np.array([[1,1,1],[2,2,2]]) \n",
        "media = np.mean(x,axis=0)\n",
        "desvio_padrao = np.std(x)\n",
        "\n",
        "print('x:\\n',x)\n",
        "print('média:', media)\n",
        "print('desvio padrão:', desvio_padrao)"
      ],
      "execution_count": 13,
      "outputs": [
        {
          "output_type": "stream",
          "name": "stdout",
          "text": [
            "x:\n",
            " [[1 1 1]\n",
            " [2 2 2]]\n",
            "média: [1.5 1.5 1.5]\n",
            "desvio padrão: 0.5\n"
          ]
        }
      ]
    },
    {
      "cell_type": "markdown",
      "metadata": {
        "id": "mTgzxIJKuRzN"
      },
      "source": [
        "Criando um novo *array* a partir de outros."
      ]
    },
    {
      "cell_type": "code",
      "metadata": {
        "id": "sz4G6RxHuZIS",
        "colab": {
          "base_uri": "https://localhost:8080/"
        },
        "outputId": "935e4fed-8b2f-4991-f3f4-f5dba7318f9f"
      },
      "source": [
        "x1 = np.array([1,2,1])\n",
        "x2 = np.array([[0, 1, 2],[3,4,5]])\n",
        "\n",
        "x_vertical = np.vstack((x2,x1))\n",
        "x_horizontal = np.hstack((x2,x2))\n",
        "\n",
        "print('x1\\n', x1)\n",
        "print('x2\\n', x2)\n",
        "print('combinando na vertical\\n', x_vertical)\n",
        "print('combinando na horizontal\\n', x_horizontal)"
      ],
      "execution_count": 14,
      "outputs": [
        {
          "output_type": "stream",
          "name": "stdout",
          "text": [
            "x1\n",
            " [1 2 1]\n",
            "x2\n",
            " [[0 1 2]\n",
            " [3 4 5]]\n",
            "combinando na vertical\n",
            " [[0 1 2]\n",
            " [3 4 5]\n",
            " [1 2 1]]\n",
            "combinando na horizontal\n",
            " [[0 1 2 0 1 2]\n",
            " [3 4 5 3 4 5]]\n"
          ]
        }
      ]
    },
    {
      "cell_type": "markdown",
      "metadata": {
        "id": "JTVjvK-nAdGJ"
      },
      "source": [
        "##Multiplicação de vetores\n",
        "\n",
        "Dois ou mais vetores podem ser multiplicados e para isso é calculado a multiplicação de cada elemento nas mesmas posições do vetor, exemplo:"
      ]
    },
    {
      "cell_type": "code",
      "metadata": {
        "id": "6MjnZgh2Ajo-",
        "colab": {
          "base_uri": "https://localhost:8080/"
        },
        "outputId": "f0dc9b4e-2cb2-4fc8-f99d-ec0511f064c3"
      },
      "source": [
        "x = np.array([1, 2, 3, 4])\n",
        "y = np.array([5, 6, 7, 8])\n",
        "mult = x * y  \n",
        "\n",
        "print(mult)"
      ],
      "execution_count": 15,
      "outputs": [
        {
          "output_type": "stream",
          "name": "stdout",
          "text": [
            "[ 5 12 21 32]\n"
          ]
        }
      ]
    },
    {
      "cell_type": "markdown",
      "metadata": {
        "id": "UmSmk_3KtCdD"
      },
      "source": [
        "Se temos um vetor com as notas de um aluno e  um vetor com o peso que representa cada uma das notas, obtemos a média ponderada da seguinte maneira:"
      ]
    },
    {
      "cell_type": "code",
      "metadata": {
        "id": "tREqyq5EtDpk",
        "colab": {
          "base_uri": "https://localhost:8080/"
        },
        "outputId": "df74664c-96ab-4693-dde0-756cf802be04"
      },
      "source": [
        "notas = np.array([8.0, 7.0, 7.5, 9.5, 10.0])\n",
        "pesos = np.array([0.2, 0.1, 0.1, 0.3, 0.3])\n",
        "media_ponderada = sum(notas*pesos) \n",
        "print('Nota final:', media_ponderada)\n",
        "\n",
        "pesos2 = np.array([4, 2, 2, 6, 6])\n",
        "media_ponderada2 = sum(notas*pesos2)/sum(pesos2)\n",
        "\n",
        "media_p2 = np.average(notas, weights=pesos2)\n",
        "print('Nota average:', media_p2)\n",
        "print('Nota final2:', media_ponderada2)"
      ],
      "execution_count": 16,
      "outputs": [
        {
          "output_type": "stream",
          "name": "stdout",
          "text": [
            "Nota final: 8.9\n",
            "Nota average: 8.9\n",
            "Nota final2: 8.9\n"
          ]
        }
      ]
    },
    {
      "cell_type": "markdown",
      "metadata": {
        "id": "8sqodKKHelkE"
      },
      "source": [
        "## Multiplicação de escalar\n",
        "\n",
        "Também é possível fazer a multiplicação de um escalar por um vetor.\n",
        "Neste caso, o escalar é multiplicado por cada elemento do vetor. \n",
        "\n",
        "Exemplo, suponha que temos um vetor os valores pagos com comida em um restaurante e queremos calcular 10% de gorjeta para cada um dos valores e saber o valor total da gorjeta."
      ]
    },
    {
      "cell_type": "code",
      "metadata": {
        "id": "00jGwbJwfBW6",
        "colab": {
          "base_uri": "https://localhost:8080/"
        },
        "outputId": "4aa3501a-9fa4-4256-e41b-dc6768f24217"
      },
      "source": [
        "valores = np.array([18.0, 16.5, 17.0, 19.5, 18.5])\n",
        "gorjeta = valores * 0.1 \n",
        "\n",
        "gorjeta_total = sum(gorjeta)\n",
        "\n",
        "print('valores a serem pagos', valores)\n",
        "print('gorjeta:', gorjeta)\n",
        "print('gorjeta total:', format(gorjeta_total,\".2f\"))"
      ],
      "execution_count": 17,
      "outputs": [
        {
          "output_type": "stream",
          "name": "stdout",
          "text": [
            "valores a serem pagos [18.  16.5 17.  19.5 18.5]\n",
            "gorjeta: [1.8  1.65 1.7  1.95 1.85]\n",
            "gorjeta total: 8.95\n"
          ]
        }
      ]
    },
    {
      "cell_type": "markdown",
      "metadata": {
        "id": "swccpTb4gWgQ"
      },
      "source": [
        "## Produto escalar de vetores\n",
        "\n",
        "![image.png](data:image/png;base64,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)\n",
        "\n",
        "sendo **x** e **y** dois vetores de tamanho *n*\n",
        ". O produto escalar é a somatória da multiplicação de dois vetores."
      ]
    },
    {
      "cell_type": "code",
      "metadata": {
        "id": "pCmtg_Pxive_",
        "colab": {
          "base_uri": "https://localhost:8080/"
        },
        "outputId": "d4b6a3aa-e5d6-437e-dd86-1e109f2f7d48"
      },
      "source": [
        "x = np.array([1, 2, 3, 4])\n",
        "y = np.array([2, 1, 2, 1])\n",
        "\n",
        "#1*2+2*1+3*2+4*1 = 14\n",
        "produto_escalar = np.dot(x, y)  \n",
        "\n",
        "print('Produto escalar:', produto_escalar)"
      ],
      "execution_count": 18,
      "outputs": [
        {
          "output_type": "stream",
          "name": "stdout",
          "text": [
            "Produto escalar: 14\n"
          ]
        }
      ]
    },
    {
      "cell_type": "markdown",
      "metadata": {
        "id": "ocjn8ffJfwmp"
      },
      "source": []
    },
    {
      "cell_type": "markdown",
      "metadata": {
        "id": "bvqfVAvRjLwy"
      },
      "source": [
        "Para calcular a soma dos quadrados de um vetor, também podemos usar o produto escalar. \n",
        "\n",
        "![image.png](data:image/png;base64,iVBORw0KGgoAAAANSUhEUgAAAXUAAABpCAYAAADFnrOcAAAQaklEQVR4Ae2dLXDcOhSFAwsLCwsDAwsLCwsLCwMDwwoDCwMDAwMDCwsLAwMDCwv3zbdvzo5WK/9bstY+mtnxrv909Vl7dH0lyxe7ytPLy8vu7e2tcittngmYgAnUQeCiDjNOrUDMv379uru4uNg9Pj6e7uA1JmACJmACJwSqE3W88uvr672YI+h8fv36dWK4V5iACZiACZwSOBL1379/7/CQ4/T379/dnz9/4tWz//758+fu/fv3ew+d7xb12RH7hCZgAisnsBd1hPzTp08HEb27u9sX+/X19RACQWA/fvyYNb798PBw5JWTnz31lddAF88ETGBWAhd44HjHNzc3u/v7+72IXl5e7hD0q6ur/brn5+e9oCOw7FMqWdRLkXY+JmACayFw8e/fvx2iTULI5ZEj7GHI5fv37/ttiH+pZFEvRdr5mIAJrIXAUUydDklEnQ+hkDBpJAqx7lTi2CEf4vddyaLeRcjbTcAETOCYwJGoE0tH0Am7xIkQDduaxFiNQd8lgt2VLOpdhLzdBEzABI4JHIm6vHF1lGpXhWUQbMI1qfTjx4/dkE+Txx+e26Ie0vB3EzABE+gmcCTq8sbDWDqnIBSDoKc8+O4sxu9hUR/PzkeagAlsk8BB1BFyhPvdu3cn3rg6SW9vb4tSsqgXxe3MTMAEVkDgIOryxj9//nxSLEbCIPhPT0/7bXSI8kBS7iRR1+ic3Pn5/CZgAiZw7gQOoi5vPDVkUaJOrJ1x6oRpEPacifPTkPDBNicTMAETMIFuAgdRl1csbzw8lLCLBPbDhw/ZBJ0QUPhkq/LUEhvjTtzQTn83ARMwga0TOIh6FwiGMuI9N41+6Tre203ABEzABPIT6C3q+U1xDiZgAiZgAlMJWNSnEvTxJmACJlARAYt6RRfDppiACZjAVAIW9akEfbwJmIAJVETAol7RxbApJmACJjCVgEV9KkEfbwImYAIVEbCoV3QxbIoJmIAJTCVgUZ9K0MebgAmYQEUEjkSd6XCHTJ9bYt8+U/RWxNOmmIAJmMCiBI5EXVMF6LH8GpbY5GQCJmACJtCPwJGo4xWnhJz5WHJ75UzalWpULOr9LqT3MgETMAEIHIk6K/T2o1DcmWP95eWlCDEajzBvi3oR7M7EBExgJQRORJ150lMeM9PvlprMS9MAI+4W9ZXUNBfDBEygCIETUSdXZmTEOw89Zr6n5lrPYSX5K2+Leg7CPqcJmMBaCSRFncI2xddT863ngKMXc1jUc9D1OU3ABNZKoFHUKXAqvs5bj15fX7PzuL6+3nvrFvXsqJ2BCZjAigi0inpTfJ3RMLnj67pTsKivqLa5KCZgAtkJtIo6uTfF1xmlkjPxajtegv3t27ec2fjcJmACJrAqAp2iTmnlNavzUsvcL59eFWkXxgRMwAQKEOgl6tiRiq/zEuq3t7cCZjoLEzABEzCBPgR6i3pTfJ0QidNu37hx56IP4SOnMgRwLMSdpdmX4e5cliHQVd97izrmN8XX7+7ulildBbne39/vY/+EpBjbTyOn8BTfS4wUqgDDIiaY/SLYnelCBPrW90GiTllS8XXEDMHfYpKA03GsEUG0pBpn/+XLly1iKVJmsy+C2ZlUQqBvfR8s6pQvFV9n6CEhmq0lQKdCUA8PDwePXWK/NTa5y2v2uQn7/DUR6FvfR4k6niidpGo5tETsnf4n8Pz8fOADL6dyBMy+HGvntDyBuL6PEnWKQYeUxDxcEp5x2u3oZ4DL1dWVcRQmYPaFgTu7RQnE9X20qFOKeJpcRKzkNL2LkmzJnDCU7mRoRZ3KETD7cqyd0/IEUvV9kqhTpHC0hzz2ktP0Lo/11AL1OWx5VNAplTJrzL4MZ+dSB4FUfZ8s6k3xdeZE32LSXPC5p1HYItuuMtfAniGscm62OJx16+XvqqNzbm+q75NFHSOb4uuMANlSYr55/tAW9PJXvRb2Wxe1rZe/VM1vq++ziDoFaYqvb8VbUfm3eodSqjKn8qmJ/dZFbevlT9XPudd11ffZRB3DU/H1EtP0zg1t6Pl40gsP3YI+lNz0/Wtjv3VR23r5p9fo9jP0qe+zinpTfL3Ua/BiHAyvZEghgkuDk3oIiBARD06xz5iOTeYZYcRPaoy+eqYfHx9j01b3uwTrGFqN7LcuaiXKv0Rdi+veEr/71vdZRZ2CNsXXS70GT7BpSBBbiTqiHY+h5zfr9Rljo87PkoYj/GiqAJjkSC8vL0cTWZHP2A/nGptKsY7tW5J9bIt+lxA15VXjMnf5l6prNbDuW99nF3UKr5iPxJIlr8Er9WQlYs04cSoYKYShi4OAYxcifHt7u/+u/bVP1zJ8kissa/x9imC22aDe7zi/Mb/Hho5KsY45LM0+tke/c4ua8ql1mbP8S9W1GlgPqe9ZRB0IiGUsLqwrkWg8Qu9YT1xhDyERKh6NDPakQjIlbJwjD8pFGeb4jAk9UYatsO57vXKKWl8bltwvZ/ld1/pd2WyizgXQU5WhuPcza969mEFSNiD2dN4SGkHgneYlsHXWOUWN+srrHflf4bU2Jfpw6Cein4f/YSqxnnOx35xDj3OWPy7H1utazEO/s4k6GSCgElOWxLiXSHjj5I0N/CHw0nOFRJYoX015rp31kiGvcOZP6nNKsOEfOlOEQlMpvHvlXH3vWJcsf1yOtde1uLx9f2cVdYxQPBtBndMj6FtA7Yd3rgZmyHwseAOENzwvukh2L8ey7j7z8nssKWoW9dPrv+a6dlrafmuyinrYYZoa8tfPxHn2otd8zN0Ct7kch7A79SMwljVnx/vkDo/G9BxTzvCDwy+nNWJKXTs92zJriBqk7rrGWpNN1MPQy9Iv0OA2DVGWpz4k9KLOyLYY5lj4U4+TbUt2lMZlGMsaweJuiGuE96UQwtgO3NiuUr9zinqpMkzJp2T5x9a1KeWb81h0SBNyzfksSxZRp9XRn5J43dJeF605cXSJ+pJhoDkrxZKhgKZyjGHNn5MwHXUlfGm0GuJzEvaSotZ0DZZcX7L8Y+rakmyUN/p4fX190CN0CSd4rpRF1NX6YOzSHq4eqyWOroeBEMM+CbEB9pzA++Tbdx9aetk3dTnk7qXJvrGs8VKoK1T0MGl0w5COvPD4Jb6XFLUlyteVZ6nyj61r2E+9StV37hZDp6KrrGO2o4c4mGikQrvVi3po6NKdiwg5gkCLTpJnSzgoTFzMODHcC9h8uOtwaicwhbU601N3ULrjS21rt2iZraVEbZnSdedaovxj6xpCHnas6g4Qm0NHFH2YM8YdUqMeh04ieVUt6rSAiKiEMBeYEFL8HTEGHLbQInIR8bhJYYPDdpL2axN2LrjTKYE5WHNt1HimvCc1rmqYT62oa00JUaurxMfW5Cr/1LqGB44eUI/k5XPnjr04FayjsZDI8rtEUn6h0E/Nd7bwC6IoA+duefoWEhskECyxh4umRCOj7VxIxeSaxvKq447GwOmYwFysu0RAd1fn0rB2leeY4vp+5Sj/HHUN5wHRJslG9AFhD0Muqm+lnAhpZpWiLo8K0WwSydxVWPO5YINa4TjPsIMiDM3E+/Fbt/7y6lP7bHXdXKypzGpo+bPFSfPynMuQUgkGZUqVJy7f2n7nKP9cdU2swzoXh/UUhkk5chw35NNHN6oVdcDoj7nknw9PXNAVctGFDJfaJ1wXf1flPKdOurgMOX/PxRrvSXUnJYJ61mHJejWEo+qNRX2+Rm2uuqbrSCyd68Pdepw0Si4lyKqnfZcIdleqUtSJgyqODhAuwBqSGqpzEZNzZc6tr/4kKVHXnRV3gk4mMAcBeePqKNU5wwY55RTiYAz5pLx95aVldaJOwTVMkD8mt0lrSaVja2vhNrQcOAES9VRHqa/DUKLev4uAvPEwls4xcuRSHnzXOcdur07U9YfjT1mqY2EsvKHHcWHX1lANZVBqf/VdxPFN8pfTsCaHoRRX53NKQHeGqbCq9Ix+nFKpKlHXAyMIXzhssBSM3PkopKSQALHf1C1Zbju2cH7FzflThUm3w4i+2Ydk/H0sAXnjqbBq7EDQ98bIm5xJoq6ROXPkNWpII3823cKwlPDNYVAt51BIgEpA7I1ypsIDtdh7znYQglF94o+kpNhnqTHDytfL9RKQN56KLEjU+b9T56iTYX2cmwrnls7EDs2UvAaLOh5T+FRW6pZ5ikG1HCtBAToXO46/1WLnWuygwZTXAm+J/Frr11qu27mVQ3UsFc7T8Fn+89wd5hB0dCTUT4m6ltgXd+AOZTxY1GnhZMCcrctQw0vsz0XNcWFL2H6ueSDuME8NKTvXMtnu8yFAvaP+nXO4b5Coxw8BnHPBz6ea2VITMAET6E+gt6gT99QoBToRHV/uD9l7moAJmEApAr1Fnd5ihV0c5yx1eZyPCZiACQwj0EvUNeQMUacDsVRSZ+XaY/eleDofEzCB9RPoFHU6DeSh0zObe9xmiFzhHot6SMXfTcAETKCZQKuox3H0kiMSwuk2uVNwMgETMAET6CbQKuoKf+Cp95mcpju7/nuEI20s6v25eU8TMIFtE2gUdURcYZclXksXzs/ujtltV1KX3gRMoD+BpKgTZtHcJ8S1CcOUTEw7oPxpWJhnxskETMAETKCbwImoE8vWo7QIasknKmk8EHA9Iq47hZI2dCPzHiZgAiZQL4ETUQ/DHhLVpZclO2jrvVS2zARMwAS6CRyJOrHrpQU8lf8aZ4HsvjTewwRMwASGEziIOo/9h3HslLguta50TH84Rh9hAiZgAnUQOIh6+NToUuLdlG8dqGyFCZiACdRP4CDqdEYi7DV+6sdoC03ABEygDgIHUa/DHFthAiZgAiYwhYBFfQo9H2sCJmAClRFoFXWGEjLl7hJPlFbGyeaYgAmYwFkQaBV1TRWQevP23KVjhAtxfY9Jn5usz2cCJrAlAq2izgtQEfSck3nxBCt3Aox84YWsmm536stXt3QRXVYTMAETEIFWUddOuZa84/Tq6mo/Pp63bCvpLUsWdhHx0gRMwAT6EWgUdQSXcEjOeVeY5wUP/fr6+shaQjCs52Eov9z6CI1/mIAJmEArgaSoh/O/EA7JlfDSEe/U1LoKw6S25bLH5zUBEzCBcyeQFHUKJWFveicpIZIhH84XJjxwBJ0PUxTESfnf3NzEm/zbBEzABEyggUCjqKvzsqmTVILcd8l0vmFiki4dm5qwi/eSsr2pUQnP5e8mYAImYAL/E2gUdYU/cg0xJFbfJuq3t7f77dwNOJmACZiACfQjkBR1edE5Oyqfn59bRV0TjFnU+11I72UCJmACEEiKuuZVzymoDGFs89QZEcP2OBbvy2YCJmACJtBMICnqime3dVIO6SRl31iceYJUop7qKO1jQ3OxvMUETMAEtkkgKeoaavj09NRIZaqoc2LF7VPDFi8vL/ei32ZDo3HeYAImYAIbJZAUdb0BSaNSiH/neAhIcXO88jAppo/o58g3zMvfTcAETGBNBJKirrAIHjSP6r9//z45lnwqCEIwnJv8widXGcbIuvv7+6lZ+HgTMAET2BSBpKhLVBFWwiDhvCxz0yGezhh25SWRT4Vk5s7b5zMBEzCBtRFIijqFzD3vSwwScSfPXOPi4/z82wRMwATWSOA/mDDrjJSYmYMAAAAASUVORK5CYII=)"
      ]
    },
    {
      "cell_type": "code",
      "metadata": {
        "id": "KR5Ba6p_j5Nv",
        "colab": {
          "base_uri": "https://localhost:8080/"
        },
        "outputId": "233f1c01-d4f5-45be-f223-b6b67d60d985"
      },
      "source": [
        "x = np.array([1, 2, 3, 4])\n",
        "x2 = np.dot(x, x)  # 30\n",
        "# 1+4+9+16 = 30\n",
        "\n",
        "print('X^2 = ', x2)"
      ],
      "execution_count": 19,
      "outputs": [
        {
          "output_type": "stream",
          "name": "stdout",
          "text": [
            "X^2 =  30\n"
          ]
        }
      ]
    },
    {
      "cell_type": "markdown",
      "metadata": {
        "id": "FwVhVXOxkTK2"
      },
      "source": [
        "## Distância Euclidiana\n",
        "\n",
        "Na Figura temos o ponto verde na posição (1,4), o ponto azul na posição (2,1) e o ponto vermelho na posição (4,2). \n",
        "\n",
        "![distancia_vetores.png](data:image/png;base64,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)\n",
        "O ponto vermelho está mais próximo do ponto verde ou do ponto azul?\n",
        "\n",
        "Para calcular a distância entre dois pontos podemos empregar a expressão da distância Euclidiana:\n",
        "\n",
        "![image.png](data:image/png;base64,iVBORw0KGgoAAAANSUhEUgAAAM0AAACPCAYAAABZLF8OAAARqUlEQVR4Ae2dK9DUPhfGkUgkEolEIpFIJBKJROKQSCQSiUQikUgkEolEIt9vfjvzMOefL01zOel225OZTne3bS5PzpNzSZq9dzchPXv27M4e9+7du4sjMDiMDEzgTBAkBoljy8As0jx58uTu3bt3l+PTp08ziok8A4GrIHDPu9Rfv35dRplXr155Zx35BQK7QCBIs4tuiErcEgLupPnx48dF02CaRQoEjoiAO2m+ffsWpDmipESb/iEwjTQfPnz4V0h8CASOhIA7aYiUEY+PiNmRxCTaYhEI0lg04nMgUIGAO2kwy9A0+DaRAoEjIuBOGqJmQZojikq0SQhMIw2h50iBwBERcCcNKwHQNKwMiBQIHBGBIM0RezXaNBUBd9K8ePHiommm1joyDwSuiIA7aXiPBvMsUiBwVATcpRvSPHz48Kh4RbsCgTt30jx69OiOI1IgcFQEppDm8ePHR8Ur2hUI+GuaBw8eXPYHCGwDgaMi4K5pCALg19xK+vnz593v379vpbpRzx0gMIU0L1++3EHTylWALAqPf/78uXxzXA0EDAKupLmF/QHQKq9fv76ExdGKHLG41EhEfFxFYAppEMql9P379ztG+TT9+fPnbvZ6NVZg43OhYbQaO0iT9kR8X0PAlTSl/QEgytOnT/+N8O/fv7/UDe0kMwkBJlw9y8fgxTirVSgrSLMmInE9RcCVNEv7A0AmRvg3b97cffz48SKohKUhDPuj8dvXr18vhEGI+b5FCtJsgfLxyphCmlTo//79eyEF8MnvQWAhjjXJtEIacm2RgjRboHy8MlxJU7M/gLQRGiXdR0BmWm5TDp5rOfCd1lKQZg2huJ5DYAppSiFcfBkIg1mWJkw4ruUEnt9bDgixloI0awjF9RwCrqRRRAqNsJSkTRQI0H0y2yAG5lyatC907TmnrdI8gzQpIvG9BgFX0tTsDyBtYn0ZKirTLqeBahrSc0+Qpge1eGYKaXLzMECtkPT9+/f/T5soCPD27dvNeiVIsxnUhyrIlTQSfEytXJI2ya1NI5KGafbly5fLo5h4THjOTCIN4e5IgUAtAlNIszQ5KVLlQsoiDb4OIWvMuJJvVNvApfvIW4EF6hUpEKhFwJU0cvKXCtfILm1i78MskxDz5ucMwmAe2lUJKk9n6pcGKGwd43MgAAKupBndH4BQM2TJRc+iuwKBvSDgTprYH2AvXRv1mIWAK2kwbzgiBQJHRsCdNDj0kQKBIyPgShoiXrlw8pEBjLadDwFX0hCFCtKcT4jO1mJ30tzC/gBn6+Rory8CbqTRgsuYKPTtoMhtfwi4k6a0P8D+mh81CgTaEXAjjRZjstK5lFiyX7u8f6v7al4jKLUprp0LATfSaC3XGmm0lEZLV/Zwjrmlcwn9aGvdSZPuD5BWUC+qpWRhTdhszYK/lSNtkCbtpfheQsCNNFr2n773nytcCzstcXjHZuk9nFweI79BTlt2kGYEzfM9606a0v4Agpf3ZHIjPqsJtlqsqdcUIE+QRj0T5xoE3Egjs6t2ST8rmtEudsTnc+5dm5qGtN5D+So7SNOK3rnvdyONTJ5a0gC7iCbh1Tn3vs2MbtKLb0GaGegeN0930rT6JTn/hjVsS69Me3aFNkIP0niievy83EgjH6FV2Jf8G6Jps/0babogzfEF3bOF7qRZ2h+gVOkl/2ZtzqeUZ801JmRZYBrr5WrQinuEgBtpZGYp49azRn35NTq3+EitZcb9gUAPAm6kGd0fgMqLeCIMZ16f7tFePWDEM4FADQKupBndH2DJv4l3dGq6Mu7ZCgE30uBMezjUS/5NbK20lUhEOWsIuJLGa3+AnH/DRCiEihQIeCOA+Y/vrIMAUSm5kcZ7f4Ccf4Mmm71VbQmsuHYsBFhcLF+cQVmf8aX5vDR94kYaFeQFK+zHR7JBAT5Dpj0myNw6sbvHdtxinXotEMkWUxuaE0TutFLk+fPnWThcSeM934G6VMPsGfNtLwmQWS+Hpo23VrfvFQYqZAPN0Lr8Ss+ltdaKfa6LTPYeF9LM3B9Aa9osabZ8jcCClX5m/2nqAmEIVOQATp+J7/4IoGm0Rzf/b7Tmk6zVgH+RkLwxKKbJlTSzRlpra6oxW75GkILGd61bo245YHPPxG9zEUBDMIhh1i/5IzU1YABEzpb+YMyFNLX7A9RUOHcPQpnzb6618420H8SNwESux673G849Ak/QqIc49Kdkbel/i1xII99j5loxlSFNo3PNm6KeXchLdpS9FxPRs21HyUuLh9EUrSazoraleUFX0swWYI3wIoyEt2dE6REQOkCj0J6CET1tOfIzvf0ksq0N/i6kUbRhNmno6Jx/s8VrBJRttUyYZfumnf4kbMkvSWtPBJRBeI0wPOdKmtaQX1rxmu9L/s0Wr0nTAQC7FL/P1R+NpOcgfM5cYLDBBifvklmQy3/Pv9FWhNDOe+TazwAENvZY8idq20tEDTw5MO1LSRZMrY/sQhote1mrXKniLdeW/JuZpFWwg06o1agQGd9HpOHZ1KwTdurgmW1owXj0XsjB4EL7NSDQxqXBzQo593ngoHJL84cKHNQSBlxcSCOmbkUaKq4yJWycmS+ZFf6VuqecGtMMMtjQp4jDWQnBID9GWOW/lX+mOsw6Qw5FsMCLvqGtYLKUJOSle5aezf1OHSgT4uYSAyHXcqtMqDP1yO2u5EqarTscYQMUe/DbjMRoVeqAtEzIawcRxf7Jgw4BKwSJ+uZMljS/W/vOTL2dZJSTTftzcgIG6kcvE9VinhtM7UBGP9hDJqXtQ/WBC2kESA4MFTTjvOTfzChLM86Mhj3Jmh90BPmdaZ5HwSKIkTO9ZP4y8ucEvAdzWyb422Rn/UXW3Dm3ntCVNDVmi624x2cE0DZ2SRWPloWqphyEvScxklI38iAvtEyuQ3ryLj2jAc1i1Pu5xe5P68SAqnIxRdMkU2rJ50nvr/luiZEzs2ryyN3jQhpNCOUK2OI3qVk6pdZJb6mXNR1y9m9tXtJW1LMlOsQoienQErVTnfZCGuojvybFEHwZSEpapgcDaS/w9jL5aIcLaehQKnaNZAMCaWd41ceOkiOjrUbTVm2oCBs433KC9MgJZqlNmv8qaZkeDGy/ISdeyUXS6cxeW3+kIdY0o/yZ5iGdzdEruIymGlzIp8U0Y5TkWQTnlpMihLQfPJSwFNA0pf7rwcDKhyd2LqRBYLcmjQ0CMHKnjp46xOtM++hsGzJuyZtRVOYJ+cwwI1vqc417FWKn/YqsyVn39DnUNlteLvig+1rPbqTpFabWCut++VF0gOcoovzTs7QEI2Jr0gQafoxCmbVmHiMyIybHrSdrLkESNAt4rpnVvRgId0tSDwxdSKP5Bo8K1eQh+xYwepzjmjLSe6xDnV4rfYcoaELZ68on1cw500RzQ7Szh6ylel3rmrQtPgaYlJx/6jiCgfV3c/j2YuBCGjq119ZvrThmGEBLkLxi+mv1sBNljJilREdjdlBXhISomWx4S3iZlLov17ESmrXRuFSfPV2TxlbEs8ZK6MVAAxR94JncSFNrboxUHqGSbwFptjRZcNwpk6MUvqSOuo8z9bUkg+S6juDI11mK7ijiVCNcI9hu9Sztte2vKbcHAwYpaTVp+Zqyau4ZJo3s1C1IoxEH0JeErKbRvfeo80oTnNb5xH+xhFG5elWadljTTdftGbOM+6SV7LVb/CzHnzYpGLDWjh4M7MRmbTlr9dB1N9J4s1kV1NmCvZUpqLJ1toTIkYH70CRy3GWS6Xl71j32t/SzBiSIVcorfW7P3+Vn1A56vRjINCsNcL04DZNGs661IPRUFNNIfgwqdys/Jq0rgqtRb9YmIrZMDRTXGiRsXTw+a/RvCd70YADRJC8zQtnDpGHEnGkuIagK01KOZ7y9RxDU8VvURaPlbC3eg0PrMwyuDHj4eLmAx1J+rRggL1quBDlnaGg30jAizEgCDSHdi/Bo9EMIWmb2W/FRhOnaA0VrvRFUBlMJLBhBlh68WjGQv8hzKr+1/mv3D5NGAjSDNFqTBGFs2HatUVtcV+gYcw3tMyPJxJD/RDmzBMGz/vL9MNmJNEIW2tITzKjFAO2lARbLpEWbtbbdjTTeoyGCAtgQhrMEp7WBM++H1AqBYwp4ax3azsGAJOHzLmMGPnaNGfVHiHsIQ91qMGAAk6xAnNk+7zBpNOKijr0So6nsUgmNV94z8mHAoL7ewQG7VAjB8w6dzsCCPDXiE8CAQCPacQ0DCAJhMN1nk0V4DZNGIURP0gCARhg64FbSiHAstRFcPbFdKmfPv69hMAP3Eh5upPEyn2QPS61vDUgJrLgWCIDAMGmkij1Ig3rVPAgO4C3Y7yFG50PAjTQe0Qot5rsFP+Z8ohItFgLDpJGjpgx7z/KNIMyWK3pV/1vynXoxjud8EBgmjbTDSHVw9OT4t84Yj5TLszIHgzSjSJ7neRfSIOi9KfVjeuP5PeVjUoqsM9fO9dQtntkvAsOkgTAjpJF5hPBu/c6IjdQFafYrpHurmQtpWOfTkzQxCmFaVr72lJV7xr6fM2MZUK7M+O32ERgmDbOxPUvXMcO0rgi/YqvZXHUZIXKVD2lnLCFXWXE+FgLDpEHgWkmDL4FJx7McW854Q04IorVK16jDsUTofK1xIU1r5MmaRRLaa5+3DECcT8yO1eIh0mDiIOwtpNGrBNcmSVq+x4qGY4lGtGYJARfS1L4cxrIY60ekgnvN71v7VEsdEr/vH4Eh0rTuD2Bn/a9JkFzZ+++qqOFeEBgijWbya+c4uJ9793jspUOiHvtHwIU0Mcex/46OGvohMEQaOfVBGr8OiZz2j4ALaUb2ByDUyzzPNVYE7L97ooZ7RGCINPorg5HJSS2laZ0g7QGTCBl1jTmZHvTiGSEwRBpFw0ZIwy4rEGbmYk1WIKDJiJqxAYZeByhtZC6A4hwIpAi4kGbPE4PsMcCCUuaH7G4uEBUSBXFSkYjvawgMkUa7GfaSBoFGS41oqrUGasPBdHslTDRIA5li8441FOO6RWCINCyfQfB69gew688wl2YlbWuai/DJTMtdm1WfyPf2ERgijQS/FwY9v7QnACZUy0F+NqFBIDVHbmcblV+7DMjmHZ/Pi8AQaeQX9MIn53wpCCCBrz2nb5BqQSnP50xIacol0va2K547NgLDpEkFtQUumUezQsD4SiJcjjTacxjyRwoEahEYIg37C/eSRlpgpiNu/0smRxqFzIM0teIS94HAEGkgDPMePUlLcGYKrFZhL5lniv6lvlBPe+KZ8yAwRBrMq16hlz9RcsLJu+VIhZ8VADLPcoGAmjqcRxSipbUIDJEGgexdM6ZQcGndWgthuDclDSDIb8qFlTEvaUOpDrVAxn3nQSBLGoSoZncWBI7RuifpDU75GrP+5Ut+S1pP+VSQKiY3e3rwvM/8hzREm6QBEKbSpKVMn1QYa6GU2YQGmPkvX9RTO8/YlQfapJBFp5ECgRYELqTR8nwEWeYMn0v+hkZqwrY9SUJLObP/5Qt/hqCFyhKJciZbT1vimXMhcE9rsBBihAvTDOHiwIRipM4l7uUezJ/exMhvR//efGqfo86UN2teqLYecd9tI3DRNAiTTTLRIMWStkH4uB6rhC1y8fkMCPzHp1GD7aQgxLBL6nWPSBMmjhCJ81kQyJKGxlufg89p0pL7IE2KTHw/OgKLpLGz6TltA1n4Ha0UKRA4EwKLpAEELZ2HHPg5NnnsD2Dzi8+BwK0gUCQNkTNNQkIcO3OuScOIRN1KV0c9vRAokoZCiJ5BmFTbiDSa0feqUOQTCOwdgVXSpNpGL4xphXCQZu9dHPXzRmCVNBSovcnQNlqrpRXCsW7Lu0siv70jUEUaiGGX10AiBQn23sCoXyDgjUAVaSjUahvWbrFejCBBpEDgbAhUkwZg7PIaTLXeV53PBnK091gINJHGLuYM0hxLEKI19Qg0kYZsrbbp3R+gvnpxZyCwPwSaSWOX1/CKcaRA4GwINJMGgLSYs3d/gLOBHO09FgJdpJG26X3V+VgQRmvOhsD/AIcikLEE0yGAAAAAAElFTkSuQmCC)\n"
      ]
    },
    {
      "cell_type": "code",
      "metadata": {
        "id": "_wsyKvIAkSiF",
        "colab": {
          "base_uri": "https://localhost:8080/",
          "height": 330
        },
        "outputId": "030e4d2e-c21b-4657-9c19-3a1256f9f086"
      },
      "source": [
        "verde = np.array([1,4])    # ponto verde\n",
        "azul = np.array([2,1])    # ponto azul\n",
        "vermelho = np.array([4,2])    # ponto vermelho\n",
        "\n",
        "import matplotlib.pyplot as plt\n",
        "\n",
        "plt.scatter(verde[0], verde[1], marker='o', color='g')\n",
        "plt.scatter(azul[0], azul[1], marker='o', color='b')\n",
        "plt.scatter(vermelho[0], vermelho[1], marker='o', color='r')\n",
        "\n",
        "plt.title(\"Titulo\")\n",
        "plt.xlabel(\"x\")\n",
        "plt.ylabel(\"y\")\n",
        "plt.grid()\n",
        "plt.show()\n",
        "\n",
        "distancia_verde_vermelho = np.sqrt(sum((verde - vermelho) ** 2)) \n",
        "distancia_azul_vermelho  = np.sqrt(sum((azul - vermelho) ** 2)) \n",
        "\n",
        "print('Distância verde vermelho: ', format(distancia_verde_vermelho, \".2f\"), '\\nDistância azul-vermelho: ', format(distancia_azul_vermelho, \".2f\"))"
      ],
      "execution_count": 20,
      "outputs": [
        {
          "output_type": "display_data",
          "data": {
            "text/plain": [
              "<Figure size 432x288 with 1 Axes>"
            ],
            "image/png": "[encoded data removed]"
          },
          "metadata": {
            "needs_background": "light"
          }
        },
        {
          "output_type": "stream",
          "name": "stdout",
          "text": [
            "Distância verde vermelho:  3.61 \n",
            "Distância azul-vermelho:  2.24\n"
          ]
        }
      ]
    },
    {
      "cell_type": "code",
      "source": [
        "print(verde.shape)\n",
        "print(verde)\n",
        "verde = np.reshape(verde, (1,2))\n",
        "print(verde.shape)\n",
        "print(verde)"
      ],
      "metadata": {
        "colab": {
          "base_uri": "https://localhost:8080/"
        },
        "id": "6T7aTWAnol_X",
        "outputId": "eb8189e2-34c7-4443-882a-101b7f47cdc4"
      },
      "execution_count": 21,
      "outputs": [
        {
          "output_type": "stream",
          "name": "stdout",
          "text": [
            "(2,)\n",
            "[1 4]\n",
            "(1, 2)\n",
            "[[1 4]]\n"
          ]
        }
      ]
    },
    {
      "cell_type": "markdown",
      "metadata": {
        "id": "8tzoMwtFoK4D"
      },
      "source": [
        "## Soma de Matrizes\n",
        "\n"
      ]
    },
    {
      "cell_type": "code",
      "metadata": {
        "id": "XeQldncloXER",
        "colab": {
          "base_uri": "https://localhost:8080/"
        },
        "outputId": "3d6d9fbb-f380-4f83-e236-4dad6b15c38c"
      },
      "source": [
        "A = np.array([[1, 2, 3, 4],\n",
        "               [5, 6, 7, 8]])\n",
        "\n",
        "B = np.array([[1, 0, 1, 0], \n",
        "               [1, 0, 1, 0]])\n",
        "\n",
        "S = A + B\n",
        "\n",
        "print('A=\\n', A)\n",
        "print('B=\\n',B)\n",
        "print('S=\\n', S)"
      ],
      "execution_count": 22,
      "outputs": [
        {
          "output_type": "stream",
          "name": "stdout",
          "text": [
            "A=\n",
            " [[1 2 3 4]\n",
            " [5 6 7 8]]\n",
            "B=\n",
            " [[1 0 1 0]\n",
            " [1 0 1 0]]\n",
            "S=\n",
            " [[2 2 4 4]\n",
            " [6 6 8 8]]\n"
          ]
        }
      ]
    },
    {
      "cell_type": "markdown",
      "metadata": {
        "id": "0RQWaVW7pGd5"
      },
      "source": [
        "## Transposta"
      ]
    },
    {
      "cell_type": "code",
      "metadata": {
        "id": "XxDeRJXppJfq",
        "colab": {
          "base_uri": "https://localhost:8080/"
        },
        "outputId": "48d2de0a-170b-4b4d-f459-3280df4ee734"
      },
      "source": [
        "A = np.array([[1, 2, 3, 4], \n",
        "               [5, 6, 7, 8]])\n",
        "\n",
        "At = A.T\n",
        "At = A.transpose()\n",
        "print('A=\\n',A)\n",
        "print('At=\\n', At)\n",
        "\n",
        "print('A', A.shape)\n",
        "print('At', At.shape)"
      ],
      "execution_count": 23,
      "outputs": [
        {
          "output_type": "stream",
          "name": "stdout",
          "text": [
            "A=\n",
            " [[1 2 3 4]\n",
            " [5 6 7 8]]\n",
            "At=\n",
            " [[1 5]\n",
            " [2 6]\n",
            " [3 7]\n",
            " [4 8]]\n",
            "A (2, 4)\n",
            "At (4, 2)\n"
          ]
        }
      ]
    },
    {
      "cell_type": "markdown",
      "metadata": {
        "id": "D-iElo3NqY5b"
      },
      "source": [
        "## Reformatando "
      ]
    },
    {
      "cell_type": "code",
      "metadata": {
        "id": "mc_J_7oFqcB4",
        "colab": {
          "base_uri": "https://localhost:8080/"
        },
        "outputId": "41cd8bb3-9f05-4f6b-ba18-0625729abfef"
      },
      "source": [
        "x = np. array([1,2,3,4,5,6])\n",
        "x1 = x.reshape(2, 3)\n",
        "x2 = x.reshape(3, 2)\n",
        "x3 = x.reshape(6, 1)\n",
        "\n",
        "print('x =\\n', x)\n",
        "print('x1 =\\n', x1)\n",
        "print('x2 =\\n', x2)\n",
        "print('x3 =\\n', x3)"
      ],
      "execution_count": 24,
      "outputs": [
        {
          "output_type": "stream",
          "name": "stdout",
          "text": [
            "x =\n",
            " [1 2 3 4 5 6]\n",
            "x1 =\n",
            " [[1 2 3]\n",
            " [4 5 6]]\n",
            "x2 =\n",
            " [[1 2]\n",
            " [3 4]\n",
            " [5 6]]\n",
            "x3 =\n",
            " [[1]\n",
            " [2]\n",
            " [3]\n",
            " [4]\n",
            " [5]\n",
            " [6]]\n"
          ]
        }
      ]
    },
    {
      "cell_type": "markdown",
      "metadata": {
        "id": "NzkzV8Y9pc7n"
      },
      "source": [
        "## Multiplicação de matrizes\n",
        "\n",
        "Para multiplicar duas matrizes é necessário que uma matriz A tenha dimensão m x n enquanto que a matriz B tenha a dimensão n x m, como resultado temos uma matriz de dimensão m x m."
      ]
    },
    {
      "cell_type": "code",
      "metadata": {
        "id": "t8Wy737jph5k",
        "colab": {
          "base_uri": "https://localhost:8080/"
        },
        "outputId": "bb42ea65-276a-4090-e19b-ea3e30432ba1"
      },
      "source": [
        "A = np.array([[1, 2, 2, 0], \n",
        "               [0, 1, 3, 2]])\n",
        "B = np.array([[1, 0],\n",
        "               [0, 1], \n",
        "               [4, 1],\n",
        "               [2, 2]])\n",
        "\n",
        "mult_dot = np.dot(A,B)\n",
        "mult_matmul = np.matmul(A,B)\n",
        "print(A)\n",
        "print(B)\n",
        "print('Formato A', A.shape)\n",
        "print('Formato B', B.shape)\n",
        "print('Com dot \\n', mult_dot)\n",
        "print('Com matmul \\n', mult_matmul)\n"
      ],
      "execution_count": 25,
      "outputs": [
        {
          "output_type": "stream",
          "name": "stdout",
          "text": [
            "[[1 2 2 0]\n",
            " [0 1 3 2]]\n",
            "[[1 0]\n",
            " [0 1]\n",
            " [4 1]\n",
            " [2 2]]\n",
            "Formato A (2, 4)\n",
            "Formato B (4, 2)\n",
            "Com dot \n",
            " [[ 9  4]\n",
            " [16  8]]\n",
            "Com matmul \n",
            " [[ 9  4]\n",
            " [16  8]]\n"
          ]
        }
      ]
    },
    {
      "cell_type": "markdown",
      "metadata": {
        "id": "G6JWvlFMEAv0"
      },
      "source": [
        "## Soma de Tensores"
      ]
    },
    {
      "cell_type": "code",
      "metadata": {
        "id": "txUrefszEDkk",
        "colab": {
          "base_uri": "https://localhost:8080/"
        },
        "outputId": "3df324e5-14a6-47ab-d433-344c4509451e"
      },
      "source": [
        "A = np.array([[[1, 1, 1, 1], [2, 2, 2, 2]], [[1, 1, 1, 1], [2, 2, 2, 2]]])\n",
        "print(A.shape)\n",
        "B = np.array([[[0, 0, 0, 0], [2, 2, 2, 2]], [[1, 1, 1, 1], [1,2,3,4]]])\n",
        "print(B.shape)\n",
        "S = A + B\n",
        "\n",
        "print('A=\\n', A)\n",
        "print('B=\\n',B)\n",
        "print('S=\\n', S)"
      ],
      "execution_count": 26,
      "outputs": [
        {
          "output_type": "stream",
          "name": "stdout",
          "text": [
            "(2, 2, 4)\n",
            "(2, 2, 4)\n",
            "A=\n",
            " [[[1 1 1 1]\n",
            "  [2 2 2 2]]\n",
            "\n",
            " [[1 1 1 1]\n",
            "  [2 2 2 2]]]\n",
            "B=\n",
            " [[[0 0 0 0]\n",
            "  [2 2 2 2]]\n",
            "\n",
            " [[1 1 1 1]\n",
            "  [1 2 3 4]]]\n",
            "S=\n",
            " [[[1 1 1 1]\n",
            "  [4 4 4 4]]\n",
            "\n",
            " [[2 2 2 2]\n",
            "  [3 4 5 6]]]\n"
          ]
        }
      ]
    },
    {
      "cell_type": "markdown",
      "metadata": {
        "id": "ojFXWm4eFKrO"
      },
      "source": [
        "##Multiplicação de Tensores"
      ]
    },
    {
      "cell_type": "code",
      "metadata": {
        "id": "d5FJHMxmFR0W",
        "colab": {
          "base_uri": "https://localhost:8080/"
        },
        "outputId": "fbfb4b0c-cf51-44fd-dda7-4161a6b0c1cf"
      },
      "source": [
        "A = np.array([[[1, 1, 1, 1], [2, 2, 2, 2]], [[1, 1, 1, 1], [2, 2, 2, 2]]])\n",
        "\n",
        "B = np.array([[[0, 0], [2, 2], [3,2], [1, 0]], [[1,2], [3,1], [1, 1], [0, 0]]])\n",
        "\n",
        "print('Formato de A\\n', A.shape)\n",
        "print('Formato de B\\n', B.shape)\n",
        "\n",
        "mult_dot = np.dot(A,B)\n",
        "mult_matmul = np.matmul(A,B)\n",
        "\n",
        "print('com dot: \\n', mult_dot.shape, '\\n', mult_dot)\n",
        "print('com matmul: \\n', mult_matmul.shape, '\\n', mult_matmul)\n",
        "print('Formato com dot: ', mult_dot.shape)\n",
        "print('Formato com matmul: ', mult_matmul.shape)\n",
        "\n"
      ],
      "execution_count": 27,
      "outputs": [
        {
          "output_type": "stream",
          "name": "stdout",
          "text": [
            "Formato de A\n",
            " (2, 2, 4)\n",
            "Formato de B\n",
            " (2, 4, 2)\n",
            "com dot: \n",
            " (2, 2, 2, 2) \n",
            " [[[[ 6  4]\n",
            "   [ 5  4]]\n",
            "\n",
            "  [[12  8]\n",
            "   [10  8]]]\n",
            "\n",
            "\n",
            " [[[ 6  4]\n",
            "   [ 5  4]]\n",
            "\n",
            "  [[12  8]\n",
            "   [10  8]]]]\n",
            "com matmul: \n",
            " (2, 2, 2) \n",
            " [[[ 6  4]\n",
            "  [12  8]]\n",
            "\n",
            " [[ 5  4]\n",
            "  [10  8]]]\n",
            "Formato com dot:  (2, 2, 2, 2)\n",
            "Formato com matmul:  (2, 2, 2)\n"
          ]
        }
      ]
    }
  ]
}