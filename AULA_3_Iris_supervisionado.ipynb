{
  "nbformat": 4,
  "nbformat_minor": 0,
  "metadata": {
    "colab": {
      "provenance": [],
      "collapsed_sections": [],
      "include_colab_link": true
    },
    "kernelspec": {
      "name": "python3",
      "display_name": "Python 3"
    },
    "language_info": {
      "name": "python"
    }
  },
  "cells": [
    {
      "cell_type": "markdown",
      "metadata": {
        "id": "view-in-github",
        "colab_type": "text"
      },
      "source": [
        "<a href=\"https://colab.research.google.com/github/ramonfv/Deep-Learning-e-RNA/blob/main/AULA_3_Iris_supervisionado.ipynb\" target=\"_parent\"><img src=\"https://colab.research.google.com/assets/colab-badge.svg\" alt=\"Open In Colab\"/></a>"
      ]
    },
    {
      "cell_type": "markdown",
      "metadata": {
        "id": "zJ6b3vbhpOYd"
      },
      "source": [
        "#Classificando as espécies da flor Iris - abordagem supervisionada"
      ]
    },
    {
      "cell_type": "markdown",
      "metadata": {
        "id": "QQ4H3n7cqn12"
      },
      "source": [
        "##Etapa 01\n",
        "Importar as bibliotecas de computação científica e aprendizado de máquina."
      ]
    },
    {
      "cell_type": "code",
      "metadata": {
        "id": "HpyN4mR0pEUp"
      },
      "source": [
        "#Bibliotecas de aprendizado de máquina\n",
        "from sklearn import datasets\n",
        "from sklearn import svm\n",
        "from sklearn.model_selection import train_test_split\n",
        "\n",
        "#Bibliotecas de computação científica\n",
        "import numpy as np\n",
        "import pandas as pd\n",
        "import math\n",
        "import matplotlib.pyplot as plt"
      ],
      "execution_count": 1,
      "outputs": []
    },
    {
      "cell_type": "markdown",
      "metadata": {
        "id": "ZcXaaNF8rDuR"
      },
      "source": [
        "##Etapa 02\n",
        "Importar a base de dados Iris do sklearn e definir as classes."
      ]
    },
    {
      "cell_type": "code",
      "metadata": {
        "id": "siHdst2Cq_dD",
        "colab": {
          "base_uri": "https://localhost:8080/"
        },
        "outputId": "0a4de303-f5ef-4225-8690-8f33c3de414e"
      },
      "source": [
        "iris_dataset = datasets.load_iris()\n",
        "print(\"Descrição da base de dados :: \", iris_dataset['DESCR'])"
      ],
      "execution_count": 6,
      "outputs": [
        {
          "output_type": "stream",
          "name": "stdout",
          "text": [
            "Descrição da base de dados ::  .. _iris_dataset:\n",
            "\n",
            "Iris plants dataset\n",
            "--------------------\n",
            "\n",
            "**Data Set Characteristics:**\n",
            "\n",
            "    :Number of Instances: 150 (50 in each of three classes)\n",
            "    :Number of Attributes: 4 numeric, predictive attributes and the class\n",
            "    :Attribute Information:\n",
            "        - sepal length in cm\n",
            "        - sepal width in cm\n",
            "        - petal length in cm\n",
            "        - petal width in cm\n",
            "        - class:\n",
            "                - Iris-Setosa\n",
            "                - Iris-Versicolour\n",
            "                - Iris-Virginica\n",
            "                \n",
            "    :Summary Statistics:\n",
            "\n",
            "    ============== ==== ==== ======= ===== ====================\n",
            "                    Min  Max   Mean    SD   Class Correlation\n",
            "    ============== ==== ==== ======= ===== ====================\n",
            "    sepal length:   4.3  7.9   5.84   0.83    0.7826\n",
            "    sepal width:    2.0  4.4   3.05   0.43   -0.4194\n",
            "    petal length:   1.0  6.9   3.76   1.76    0.9490  (high!)\n",
            "    petal width:    0.1  2.5   1.20   0.76    0.9565  (high!)\n",
            "    ============== ==== ==== ======= ===== ====================\n",
            "\n",
            "    :Missing Attribute Values: None\n",
            "    :Class Distribution: 33.3% for each of 3 classes.\n",
            "    :Creator: R.A. Fisher\n",
            "    :Donor: Michael Marshall (MARSHALL%PLU@io.arc.nasa.gov)\n",
            "    :Date: July, 1988\n",
            "\n",
            "The famous Iris database, first used by Sir R.A. Fisher. The dataset is taken\n",
            "from Fisher's paper. Note that it's the same as in R, but not as in the UCI\n",
            "Machine Learning Repository, which has two wrong data points.\n",
            "\n",
            "This is perhaps the best known database to be found in the\n",
            "pattern recognition literature.  Fisher's paper is a classic in the field and\n",
            "is referenced frequently to this day.  (See Duda & Hart, for example.)  The\n",
            "data set contains 3 classes of 50 instances each, where each class refers to a\n",
            "type of iris plant.  One class is linearly separable from the other 2; the\n",
            "latter are NOT linearly separable from each other.\n",
            "\n",
            ".. topic:: References\n",
            "\n",
            "   - Fisher, R.A. \"The use of multiple measurements in taxonomic problems\"\n",
            "     Annual Eugenics, 7, Part II, 179-188 (1936); also in \"Contributions to\n",
            "     Mathematical Statistics\" (John Wiley, NY, 1950).\n",
            "   - Duda, R.O., & Hart, P.E. (1973) Pattern Classification and Scene Analysis.\n",
            "     (Q327.D83) John Wiley & Sons.  ISBN 0-471-22361-1.  See page 218.\n",
            "   - Dasarathy, B.V. (1980) \"Nosing Around the Neighborhood: A New System\n",
            "     Structure and Classification Rule for Recognition in Partially Exposed\n",
            "     Environments\".  IEEE Transactions on Pattern Analysis and Machine\n",
            "     Intelligence, Vol. PAMI-2, No. 1, 67-71.\n",
            "   - Gates, G.W. (1972) \"The Reduced Nearest Neighbor Rule\".  IEEE Transactions\n",
            "     on Information Theory, May 1972, 431-433.\n",
            "   - See also: 1988 MLC Proceedings, 54-64.  Cheeseman et al\"s AUTOCLASS II\n",
            "     conceptual clustering system finds 3 classes in the data.\n",
            "   - Many, many more ...\n"
          ]
        }
      ]
    },
    {
      "cell_type": "markdown",
      "metadata": {
        "id": "JqoQMqrFrR4W"
      },
      "source": [
        "##Etapa 03\n",
        "Conhecer a base de dados e plotar as características de comprimento das sépalas e pétalas para setosa e versicolor."
      ]
    },
    {
      "cell_type": "code",
      "source": [
        "#Obter os dados\n",
        "X = iris_dataset.data\n",
        "Y = iris_dataset.target"
      ],
      "metadata": {
        "id": "moSi0zoBRVEg"
      },
      "execution_count": 3,
      "outputs": []
    },
    {
      "cell_type": "code",
      "source": [
        "print('\\nNome das classes: ', iris_dataset.target_names)\n",
        "print('\\nNome das características: ', iris_dataset.feature_names)"
      ],
      "metadata": {
        "id": "6-KRat9pWjlt",
        "colab": {
          "base_uri": "https://localhost:8080/"
        },
        "outputId": "47314c3f-1509-46b1-c4ed-96e02da43f4d"
      },
      "execution_count": 4,
      "outputs": [
        {
          "output_type": "stream",
          "name": "stdout",
          "text": [
            "\n",
            "Nome das classes:  ['setosa' 'versicolor' 'virginica']\n",
            "\n",
            "Nome das características:  ['sepal length (cm)', 'sepal width (cm)', 'petal length (cm)', 'petal width (cm)']\n"
          ]
        }
      ]
    },
    {
      "cell_type": "code",
      "metadata": {
        "id": "cZuS3HGtrQJ5",
        "colab": {
          "base_uri": "https://localhost:8080/",
          "height": 296
        },
        "outputId": "a430c1fd-f26f-4fad-b5ac-cefcf223aa58"
      },
      "source": [
        "#Plotar os dados\n",
        "plt.scatter(X[:50, 0], X[:50, 1],\n",
        "            color='red', marker='o', label='setosa')\n",
        "\n",
        "plt.scatter(X[50:100, 0], X[50:100, 1],\n",
        "            color='blue', marker='x', label='versicolor')\n",
        "\n",
        "plt.scatter(X[100:150, 0], X[100:150, 1],\n",
        "            color='k', marker='+', label='virginica')\n",
        "\n",
        "plt.title('Características para setosa, versicolor e virginica')\n",
        "plt.xlabel('comprimento da sépala [cm]')\n",
        "plt.ylabel('comprimento da pétala [cm]')\n",
        "plt.legend(loc='upper left')\n",
        "\n",
        "plt.show()"
      ],
      "execution_count": 9,
      "outputs": [
        {
          "output_type": "display_data",
          "data": {
            "text/plain": [
              "<Figure size 432x288 with 1 Axes>"
            ],
            "image/png": "[encoded data removed]"
          },
          "metadata": {
            "needs_background": "light"
          }
        }
      ]
    },
    {
      "cell_type": "markdown",
      "metadata": {
        "id": "L8u8rQIgv9R5"
      },
      "source": [
        "##Etapa 04\n",
        "Partição dos dados: 75% treinamento e 25% validação."
      ]
    },
    {
      "cell_type": "code",
      "metadata": {
        "id": "p-oeP8qrrklv"
      },
      "source": [
        "#Particionar os dados\n",
        "x_train, x_test, y_train, y_test = train_test_split(X, Y, test_size = 0.25)"
      ],
      "execution_count": 10,
      "outputs": []
    },
    {
      "cell_type": "markdown",
      "metadata": {
        "id": "bDf7ifA2whBp"
      },
      "source": [
        "##Etapa 05\n",
        "Realizar o treinamento do classificador."
      ]
    },
    {
      "cell_type": "code",
      "metadata": {
        "id": "JEEMptoMwc7h"
      },
      "source": [
        "svc = svm.SVC(kernel='linear').fit(x_train, y_train)"
      ],
      "execution_count": 11,
      "outputs": []
    },
    {
      "cell_type": "markdown",
      "metadata": {
        "id": "Fg0rEjzBx5uz"
      },
      "source": [
        "##Etapa 06\n",
        "Validando os dados."
      ]
    },
    {
      "cell_type": "code",
      "metadata": {
        "id": "0hJSIx4NxseJ",
        "colab": {
          "base_uri": "https://localhost:8080/",
          "height": 235
        },
        "outputId": "7828eb48-6fa6-4336-f5bb-5c8fe294bc5b"
      },
      "source": [
        "true_label = 0\n",
        "\n",
        "for i in range(len(y_test)):\n",
        "  if(y_predicted[i] == y_test[i]):\n",
        "    true_label = true_label + 1\n",
        "\n",
        "val_acc = (true_label/len(y_test))*100\n",
        "\n",
        "print('Label Real:\\n', y_test)\n",
        "print('Label Predito:\\n ', y_predicted)\n",
        "print('Acurácia da validação:', val_acc)"
      ],
      "execution_count": 12,
      "outputs": [
        {
          "output_type": "error",
          "ename": "NameError",
          "evalue": "ignored",
          "traceback": [
            "\u001b[0;31m---------------------------------------------------------------------------\u001b[0m",
            "\u001b[0;31mNameError\u001b[0m                                 Traceback (most recent call last)",
            "\u001b[0;32m<ipython-input-12-a2f6da71190e>\u001b[0m in \u001b[0;36m<module>\u001b[0;34m\u001b[0m\n\u001b[1;32m      2\u001b[0m \u001b[0;34m\u001b[0m\u001b[0m\n\u001b[1;32m      3\u001b[0m \u001b[0;32mfor\u001b[0m \u001b[0mi\u001b[0m \u001b[0;32min\u001b[0m \u001b[0mrange\u001b[0m\u001b[0;34m(\u001b[0m\u001b[0mlen\u001b[0m\u001b[0;34m(\u001b[0m\u001b[0my_test\u001b[0m\u001b[0;34m)\u001b[0m\u001b[0;34m)\u001b[0m\u001b[0;34m:\u001b[0m\u001b[0;34m\u001b[0m\u001b[0;34m\u001b[0m\u001b[0m\n\u001b[0;32m----> 4\u001b[0;31m   \u001b[0;32mif\u001b[0m\u001b[0;34m(\u001b[0m\u001b[0my_predicted\u001b[0m\u001b[0;34m[\u001b[0m\u001b[0mi\u001b[0m\u001b[0;34m]\u001b[0m \u001b[0;34m==\u001b[0m \u001b[0my_test\u001b[0m\u001b[0;34m[\u001b[0m\u001b[0mi\u001b[0m\u001b[0;34m]\u001b[0m\u001b[0;34m)\u001b[0m\u001b[0;34m:\u001b[0m\u001b[0;34m\u001b[0m\u001b[0;34m\u001b[0m\u001b[0m\n\u001b[0m\u001b[1;32m      5\u001b[0m     \u001b[0mtrue_label\u001b[0m \u001b[0;34m=\u001b[0m \u001b[0mtrue_label\u001b[0m \u001b[0;34m+\u001b[0m \u001b[0;36m1\u001b[0m\u001b[0;34m\u001b[0m\u001b[0;34m\u001b[0m\u001b[0m\n\u001b[1;32m      6\u001b[0m \u001b[0;34m\u001b[0m\u001b[0m\n",
            "\u001b[0;31mNameError\u001b[0m: name 'y_predicted' is not defined"
          ]
        }
      ]
    },
    {
      "cell_type": "markdown",
      "metadata": {
        "id": "ExeTDExC1l9Z"
      },
      "source": [
        "##Etapa 07\n",
        "Realizar a predição de uma única amostra."
      ]
    },
    {
      "cell_type": "code",
      "metadata": {
        "id": "KaLwWwul1Z_N",
        "colab": {
          "base_uri": "https://localhost:8080/"
        },
        "outputId": "784c5689-d719-44a2-f22d-504d3ed30a5d"
      },
      "source": [
        "id = 3\n",
        "sample = np.expand_dims(x_test[id],0)\n",
        "predicted = svc.predict(sample)\n",
        "\n",
        "print('Resultado: ', predicted, ' - ', iris_dataset.target_names[predicted])\n",
        "\n",
        "print('Correto', y_test[id])\n",
        "if(y_test[id] == predicted):\n",
        "  print('Acertou')\n",
        "else:\n",
        "  print('Errou')"
      ],
      "execution_count": 13,
      "outputs": [
        {
          "output_type": "stream",
          "name": "stdout",
          "text": [
            "Resultado:  [0]  -  ['setosa']\n",
            "Correto 0\n",
            "Acertou\n"
          ]
        }
      ]
    }
  ]
}